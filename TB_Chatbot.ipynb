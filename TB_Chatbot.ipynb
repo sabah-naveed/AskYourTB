{
  "nbformat": 4,
  "nbformat_minor": 0,
  "metadata": {
    "colab": {
      "provenance": []
    },
    "kernelspec": {
      "name": "python3",
      "display_name": "Python 3"
    },
    "language_info": {
      "name": "python"
    }
  },
  "cells": [
    {
      "cell_type": "markdown",
      "source": [
        "# First we gotta install/import the secret sauce ☝"
      ],
      "metadata": {
        "id": "WiC-tD67gljw"
      }
    },
    {
      "cell_type": "code",
      "source": [
        "!pip3 install langchain\n",
        "!pip install pypdf\n",
        "!pip3 install pinecone-client\n",
        "!pip install python-dotenv\n",
        "!pip install openai\n",
        "!pip install tiktoken"
      ],
      "metadata": {
        "colab": {
          "base_uri": "https://localhost:8080/"
        },
        "id": "ZKX5jYwxdCuL",
        "outputId": "8c41042a-a1b2-4091-b9c4-e97d90c15fc0"
      },
      "execution_count": 61,
      "outputs": [
        {
          "output_type": "stream",
          "name": "stdout",
          "text": [
            "Requirement already satisfied: langchain in /usr/local/lib/python3.10/dist-packages (0.0.311)\n",
            "Requirement already satisfied: PyYAML>=5.3 in /usr/local/lib/python3.10/dist-packages (from langchain) (6.0.1)\n",
            "Requirement already satisfied: SQLAlchemy<3,>=1.4 in /usr/local/lib/python3.10/dist-packages (from langchain) (2.0.21)\n",
            "Requirement already satisfied: aiohttp<4.0.0,>=3.8.3 in /usr/local/lib/python3.10/dist-packages (from langchain) (3.8.5)\n",
            "Requirement already satisfied: anyio<4.0 in /usr/local/lib/python3.10/dist-packages (from langchain) (3.7.1)\n",
            "Requirement already satisfied: async-timeout<5.0.0,>=4.0.0 in /usr/local/lib/python3.10/dist-packages (from langchain) (4.0.3)\n",
            "Requirement already satisfied: dataclasses-json<0.7,>=0.5.7 in /usr/local/lib/python3.10/dist-packages (from langchain) (0.6.1)\n",
            "Requirement already satisfied: jsonpatch<2.0,>=1.33 in /usr/local/lib/python3.10/dist-packages (from langchain) (1.33)\n",
            "Requirement already satisfied: langsmith<0.1.0,>=0.0.43 in /usr/local/lib/python3.10/dist-packages (from langchain) (0.0.43)\n",
            "Requirement already satisfied: numpy<2,>=1 in /usr/local/lib/python3.10/dist-packages (from langchain) (1.23.5)\n",
            "Requirement already satisfied: pydantic<3,>=1 in /usr/local/lib/python3.10/dist-packages (from langchain) (1.10.13)\n",
            "Requirement already satisfied: requests<3,>=2 in /usr/local/lib/python3.10/dist-packages (from langchain) (2.31.0)\n",
            "Requirement already satisfied: tenacity<9.0.0,>=8.1.0 in /usr/local/lib/python3.10/dist-packages (from langchain) (8.2.3)\n",
            "Requirement already satisfied: attrs>=17.3.0 in /usr/local/lib/python3.10/dist-packages (from aiohttp<4.0.0,>=3.8.3->langchain) (23.1.0)\n",
            "Requirement already satisfied: charset-normalizer<4.0,>=2.0 in /usr/local/lib/python3.10/dist-packages (from aiohttp<4.0.0,>=3.8.3->langchain) (3.3.0)\n",
            "Requirement already satisfied: multidict<7.0,>=4.5 in /usr/local/lib/python3.10/dist-packages (from aiohttp<4.0.0,>=3.8.3->langchain) (6.0.4)\n",
            "Requirement already satisfied: yarl<2.0,>=1.0 in /usr/local/lib/python3.10/dist-packages (from aiohttp<4.0.0,>=3.8.3->langchain) (1.9.2)\n",
            "Requirement already satisfied: frozenlist>=1.1.1 in /usr/local/lib/python3.10/dist-packages (from aiohttp<4.0.0,>=3.8.3->langchain) (1.4.0)\n",
            "Requirement already satisfied: aiosignal>=1.1.2 in /usr/local/lib/python3.10/dist-packages (from aiohttp<4.0.0,>=3.8.3->langchain) (1.3.1)\n",
            "Requirement already satisfied: idna>=2.8 in /usr/local/lib/python3.10/dist-packages (from anyio<4.0->langchain) (3.4)\n",
            "Requirement already satisfied: sniffio>=1.1 in /usr/local/lib/python3.10/dist-packages (from anyio<4.0->langchain) (1.3.0)\n",
            "Requirement already satisfied: exceptiongroup in /usr/local/lib/python3.10/dist-packages (from anyio<4.0->langchain) (1.1.3)\n",
            "Requirement already satisfied: marshmallow<4.0.0,>=3.18.0 in /usr/local/lib/python3.10/dist-packages (from dataclasses-json<0.7,>=0.5.7->langchain) (3.20.1)\n",
            "Requirement already satisfied: typing-inspect<1,>=0.4.0 in /usr/local/lib/python3.10/dist-packages (from dataclasses-json<0.7,>=0.5.7->langchain) (0.9.0)\n",
            "Requirement already satisfied: jsonpointer>=1.9 in /usr/local/lib/python3.10/dist-packages (from jsonpatch<2.0,>=1.33->langchain) (2.4)\n",
            "Requirement already satisfied: typing-extensions>=4.2.0 in /usr/local/lib/python3.10/dist-packages (from pydantic<3,>=1->langchain) (4.5.0)\n",
            "Requirement already satisfied: urllib3<3,>=1.21.1 in /usr/local/lib/python3.10/dist-packages (from requests<3,>=2->langchain) (2.0.6)\n",
            "Requirement already satisfied: certifi>=2017.4.17 in /usr/local/lib/python3.10/dist-packages (from requests<3,>=2->langchain) (2023.7.22)\n",
            "Requirement already satisfied: greenlet!=0.4.17 in /usr/local/lib/python3.10/dist-packages (from SQLAlchemy<3,>=1.4->langchain) (3.0.0)\n",
            "Requirement already satisfied: packaging>=17.0 in /usr/local/lib/python3.10/dist-packages (from marshmallow<4.0.0,>=3.18.0->dataclasses-json<0.7,>=0.5.7->langchain) (23.2)\n",
            "Requirement already satisfied: mypy-extensions>=0.3.0 in /usr/local/lib/python3.10/dist-packages (from typing-inspect<1,>=0.4.0->dataclasses-json<0.7,>=0.5.7->langchain) (1.0.0)\n",
            "Requirement already satisfied: pypdf in /usr/local/lib/python3.10/dist-packages (3.16.3)\n",
            "Requirement already satisfied: pinecone-client in /usr/local/lib/python3.10/dist-packages (2.2.4)\n",
            "Requirement already satisfied: requests>=2.19.0 in /usr/local/lib/python3.10/dist-packages (from pinecone-client) (2.31.0)\n",
            "Requirement already satisfied: pyyaml>=5.4 in /usr/local/lib/python3.10/dist-packages (from pinecone-client) (6.0.1)\n",
            "Requirement already satisfied: loguru>=0.5.0 in /usr/local/lib/python3.10/dist-packages (from pinecone-client) (0.7.2)\n",
            "Requirement already satisfied: typing-extensions>=3.7.4 in /usr/local/lib/python3.10/dist-packages (from pinecone-client) (4.5.0)\n",
            "Requirement already satisfied: dnspython>=2.0.0 in /usr/local/lib/python3.10/dist-packages (from pinecone-client) (2.4.2)\n",
            "Requirement already satisfied: python-dateutil>=2.5.3 in /usr/local/lib/python3.10/dist-packages (from pinecone-client) (2.8.2)\n",
            "Requirement already satisfied: urllib3>=1.21.1 in /usr/local/lib/python3.10/dist-packages (from pinecone-client) (2.0.6)\n",
            "Requirement already satisfied: tqdm>=4.64.1 in /usr/local/lib/python3.10/dist-packages (from pinecone-client) (4.66.1)\n",
            "Requirement already satisfied: numpy>=1.22.0 in /usr/local/lib/python3.10/dist-packages (from pinecone-client) (1.23.5)\n",
            "Requirement already satisfied: six>=1.5 in /usr/local/lib/python3.10/dist-packages (from python-dateutil>=2.5.3->pinecone-client) (1.16.0)\n",
            "Requirement already satisfied: charset-normalizer<4,>=2 in /usr/local/lib/python3.10/dist-packages (from requests>=2.19.0->pinecone-client) (3.3.0)\n",
            "Requirement already satisfied: idna<4,>=2.5 in /usr/local/lib/python3.10/dist-packages (from requests>=2.19.0->pinecone-client) (3.4)\n",
            "Requirement already satisfied: certifi>=2017.4.17 in /usr/local/lib/python3.10/dist-packages (from requests>=2.19.0->pinecone-client) (2023.7.22)\n",
            "Requirement already satisfied: python-dotenv in /usr/local/lib/python3.10/dist-packages (1.0.0)\n",
            "Requirement already satisfied: openai in /usr/local/lib/python3.10/dist-packages (0.28.1)\n",
            "Requirement already satisfied: requests>=2.20 in /usr/local/lib/python3.10/dist-packages (from openai) (2.31.0)\n",
            "Requirement already satisfied: tqdm in /usr/local/lib/python3.10/dist-packages (from openai) (4.66.1)\n",
            "Requirement already satisfied: aiohttp in /usr/local/lib/python3.10/dist-packages (from openai) (3.8.5)\n",
            "Requirement already satisfied: charset-normalizer<4,>=2 in /usr/local/lib/python3.10/dist-packages (from requests>=2.20->openai) (3.3.0)\n",
            "Requirement already satisfied: idna<4,>=2.5 in /usr/local/lib/python3.10/dist-packages (from requests>=2.20->openai) (3.4)\n",
            "Requirement already satisfied: urllib3<3,>=1.21.1 in /usr/local/lib/python3.10/dist-packages (from requests>=2.20->openai) (2.0.6)\n",
            "Requirement already satisfied: certifi>=2017.4.17 in /usr/local/lib/python3.10/dist-packages (from requests>=2.20->openai) (2023.7.22)\n",
            "Requirement already satisfied: attrs>=17.3.0 in /usr/local/lib/python3.10/dist-packages (from aiohttp->openai) (23.1.0)\n",
            "Requirement already satisfied: multidict<7.0,>=4.5 in /usr/local/lib/python3.10/dist-packages (from aiohttp->openai) (6.0.4)\n",
            "Requirement already satisfied: async-timeout<5.0,>=4.0.0a3 in /usr/local/lib/python3.10/dist-packages (from aiohttp->openai) (4.0.3)\n",
            "Requirement already satisfied: yarl<2.0,>=1.0 in /usr/local/lib/python3.10/dist-packages (from aiohttp->openai) (1.9.2)\n",
            "Requirement already satisfied: frozenlist>=1.1.1 in /usr/local/lib/python3.10/dist-packages (from aiohttp->openai) (1.4.0)\n",
            "Requirement already satisfied: aiosignal>=1.1.2 in /usr/local/lib/python3.10/dist-packages (from aiohttp->openai) (1.3.1)\n",
            "Collecting tiktoken\n",
            "  Downloading tiktoken-0.5.1-cp310-cp310-manylinux_2_17_x86_64.manylinux2014_x86_64.whl (2.0 MB)\n",
            "\u001b[2K     \u001b[90m━━━━━━━━━━━━━━━━━━━━━━━━━━━━━━━━━━━━━━━━\u001b[0m \u001b[32m2.0/2.0 MB\u001b[0m \u001b[31m19.7 MB/s\u001b[0m eta \u001b[36m0:00:00\u001b[0m\n",
            "\u001b[?25hRequirement already satisfied: regex>=2022.1.18 in /usr/local/lib/python3.10/dist-packages (from tiktoken) (2023.6.3)\n",
            "Requirement already satisfied: requests>=2.26.0 in /usr/local/lib/python3.10/dist-packages (from tiktoken) (2.31.0)\n",
            "Requirement already satisfied: charset-normalizer<4,>=2 in /usr/local/lib/python3.10/dist-packages (from requests>=2.26.0->tiktoken) (3.3.0)\n",
            "Requirement already satisfied: idna<4,>=2.5 in /usr/local/lib/python3.10/dist-packages (from requests>=2.26.0->tiktoken) (3.4)\n",
            "Requirement already satisfied: urllib3<3,>=1.21.1 in /usr/local/lib/python3.10/dist-packages (from requests>=2.26.0->tiktoken) (2.0.6)\n",
            "Requirement already satisfied: certifi>=2017.4.17 in /usr/local/lib/python3.10/dist-packages (from requests>=2.26.0->tiktoken) (2023.7.22)\n",
            "Installing collected packages: tiktoken\n",
            "Successfully installed tiktoken-0.5.1\n"
          ]
        }
      ]
    },
    {
      "cell_type": "code",
      "execution_count": 52,
      "metadata": {
        "id": "JZ1ahFRecpbB"
      },
      "outputs": [],
      "source": [
        "import os\n",
        "from dotenv import load_dotenv\n",
        "\n",
        "from langchain.document_loaders import UnstructuredPDFLoader, OnlinePDFLoader, PyPDFLoader\n",
        "from langchain.text_splitter import RecursiveCharacterTextSplitter"
      ]
    },
    {
      "cell_type": "markdown",
      "source": [
        "# Next let's load the textbook we want to query 📚"
      ],
      "metadata": {
        "id": "lg2QYnWag0U1"
      }
    },
    {
      "cell_type": "code",
      "source": [
        "#got to load this everytime you close colab\n",
        "loader = PyPDFLoader(\"/content/Introduction_to_the_theory_of_computation_third_edition_-_Michael_Sipser.pdf\")"
      ],
      "metadata": {
        "id": "yd9IFuT3dOAp"
      },
      "execution_count": 44,
      "outputs": []
    },
    {
      "cell_type": "code",
      "source": [
        "data = loader.load()  #pyPDF already splits up into documents, if not using that then use RecursiveCharacterTextSplitter"
      ],
      "metadata": {
        "id": "VqtQJFnAd4sP"
      },
      "execution_count": 45,
      "outputs": []
    },
    {
      "cell_type": "code",
      "source": [
        "print (f'You have {len(data)} document(s) in your data')\n",
        "print (f'There are {len(data[30].page_content)} characters in your document')"
      ],
      "metadata": {
        "colab": {
          "base_uri": "https://localhost:8080/"
        },
        "id": "Ak_FdjgxfjEw",
        "outputId": "27c465e4-005d-4372-943e-736dfc67ea1d"
      },
      "execution_count": 46,
      "outputs": [
        {
          "output_type": "stream",
          "name": "stdout",
          "text": [
            "You have 482 document(s) in your data\n",
            "There are 2529 characters in your document\n"
          ]
        }
      ]
    },
    {
      "cell_type": "code",
      "source": [
        "data[30]"
      ],
      "metadata": {
        "colab": {
          "base_uri": "https://localhost:8080/"
        },
        "id": "XDkJIkbdgSrV",
        "outputId": "be80c73a-36e9-4ea2-e4f4-0cbf9b9c9146"
      },
      "execution_count": 47,
      "outputs": [
        {
          "output_type": "execute_result",
          "data": {
            "text/plain": [
              "Document(page_content='0.2 MATHEMATICAL NOTIONS AND TERMINOLOGY 7\\nEXAMPLE 0.6\\nIfAandBare as in Example 0.5,\\nA×B×A={\\n(1,x ,1),(1,x ,2),(1,y,1),(1,y,2),(1,z,1),(1,z,2),\\n(2,x ,1),(2,x ,2),(2,y,1),(2,y,2),(2,z,1),(2,z,2)}\\n.\\nIf we have the Cartesian product of a set with itself, we use the shorthand\\nk\\ued17\\n \\ued1a\\ued19\\n \\ued18\\nA×A×···× A=Ak.\\nEXAMPLE 0.7\\nThe set N2equals N×N .I t c o n s i s t s o f a l l o r d e r e d p a i r s o f n a t u r a l n u m b e r s .\\nWe also may write it as {(i, j)|i, j≥1}.\\nFUNCTIONS AND RELATIONS\\nFunctions are central to mathematics. A function is an object that sets up an\\ninput–output relationship. A function takes an input and produces an output.\\nIn every function, the same input always produces the same output. If fis a\\nfunction whose output value is bwhen the input value is a,w ew r i t e\\nf(a)=b.\\nAf u n c t i o na l s oi sc a l l e da mapping ,a n d ,i f f(a)=b,w es a yt h a t fmaps atob.\\nFor example, the absolute value function abstakes a number xas input and\\nreturns xifxis positive and −xifxis negative. Thus abs(2) = abs(−2) =\\n2.A d d i t i o n i s a n o t h e r e x a m p l e o f a f u n c t i o n , w r i t t e n add.T h e i n p u t t o t h e\\naddition function is an ordered pair of numbers, and the output is the sum of\\nthose numbers.\\nThe set of possible inputs to the function is called its domain .T h e o u t p u t s\\nof a function come from a set called its range .T h en o t a t i o nf o rs a y i n gt h a t fis\\naf u n c t i o nw i t hd o m a i n Dand range Ris\\nf:D−→R.\\nIn the case of the function abs,i fw ea r ew o r k i n gw i t hi n t e g e r s ,t h ed o m a i na n d\\nthe range are Z,s ow ew r i t e abs:Z− →Z .I n t h ec a s e o f t h ea d d i t i o n f u n c t i o n\\nfor integers, the domain is the set of pairs of integers Z×Z and the range is Z,\\nso we write add:Z×Z − → Z .N o t et h a taf u n c t i o nm a yn o tn e c e s s a r i l yu s ea l l\\nthe elements of the speciﬁed range. The function absnever takes on the value\\n−1even though −1∈Z.Af u n c t i o nt h a td o e su s ea l lt h ee l e m e n t so ft h er a n g e\\nis said to be onto the range.\\nCopyright 2012 Cengage Learning. All Rights Reserved. May not be copied, scanned, or duplicated, in whole or in part. Due to electronic rights, some third party content may be suppressed from the eBook and/or eChapter(s). Editorial review has deemed that any suppressed content does not materially affect the overall learning experience. Cengage Learning reserves the right to remove additional content at any time if subsequent rights restrictions require it.', metadata={'source': '/content/Introduction_to_the_theory_of_computation_third_edition_-_Michael_Sipser.pdf', 'page': 30})"
            ]
          },
          "metadata": {},
          "execution_count": 47
        }
      ]
    },
    {
      "cell_type": "markdown",
      "source": [
        "# Now let's create embeddings 🧠\n"
      ],
      "metadata": {
        "id": "KqyflMn8hDEl"
      }
    },
    {
      "cell_type": "code",
      "source": [
        "from langchain.vectorstores import Chroma, Pinecone\n",
        "from langchain.embeddings.openai import OpenAIEmbeddings\n",
        "import pinecone"
      ],
      "metadata": {
        "id": "o_WYCRm7gfJm"
      },
      "execution_count": 48,
      "outputs": []
    },
    {
      "cell_type": "code",
      "source": [
        "OPENAI_API_KEY = os.getenv('OPENAI_API_KEY', 'super-secret-openai-api-key')\n",
        "embeddings = OpenAIEmbeddings(openai_api_key = OPENAI_API_KEY)"
      ],
      "metadata": {
        "id": "UCS70DWJhwiM"
      },
      "execution_count": 57,
      "outputs": []
    },
    {
      "cell_type": "code",
      "source": [
        "pinecone.init (\n",
        "    api_key='4680f661-b526-466f-b9e8-bdd6b60fafa2',\n",
        "    environment='us-west4-gcp-free'\n",
        ")\n",
        "index_name = \"tb-chatbot\""
      ],
      "metadata": {
        "id": "Kj_kJ-jOnp4p"
      },
      "execution_count": 59,
      "outputs": []
    },
    {
      "cell_type": "code",
      "source": [
        "docsearch = Pinecone.from_texts([t.page_content for t in data], embeddings, index_name=index_name)"
      ],
      "metadata": {
        "id": "HaN4pF0qopLo"
      },
      "execution_count": 63,
      "outputs": []
    },
    {
      "cell_type": "markdown",
      "source": [
        "#Query to find where the chatbot is getting its info from 📑"
      ],
      "metadata": {
        "id": "iZUOVDpw6Mj_"
      }
    },
    {
      "cell_type": "code",
      "source": [
        "query = \"What is a DFA?\"\n",
        "docs = docsearch.similarity_search(query)"
      ],
      "metadata": {
        "id": "AEuIjxXTpohi"
      },
      "execution_count": 65,
      "outputs": []
    },
    {
      "cell_type": "code",
      "source": [
        "docs"
      ],
      "metadata": {
        "colab": {
          "base_uri": "https://localhost:8080/"
        },
        "id": "_zPo2huGqpL0",
        "outputId": "47103dd3-19c1-404f-b7da-e733095a3172"
      },
      "execution_count": 66,
      "outputs": [
        {
          "output_type": "execute_result",
          "data": {
            "text/plain": [
              "[Document(page_content='48 CHAPTER 1 / REGULAR LANGUAGES\\nFIGURE 1.27\\nThe nondeterministic ﬁnite automaton N1\\nThe difference between a deterministic ﬁnite automaton, abbreviated DFA,\\nand a nondeterministic ﬁnite automaton, abbreviated NFA,i si m m e d i a t e l ya p -\\nparent. First, every state of a DFAalways has exactly one exiting transition arrow\\nfor each symbol in the alphabet. The NFAshown in Figure 1.27 violates that\\nrule. State q1has one exiting arrow for 0,b u ti th a st w of o r 1;q2has one arrow\\nfor0,b u ti th a sn o n ef o r 1.I n a n NFA,as t a t em a yh a v ez e r o ,o n e ,o rm a n y\\nexiting arrows for each alphabet symbol.\\nSecond, in a DFA,l a b e l so nt h et r a n s i t i o na r r o w sa r es y m b o l sf r o mt h ea l p h a -\\nbet. This NFAhas an arrow with the label ε.I ng e n e r a l ,a n NFAmay have arrows\\nlabeled with members of the alphabet or ε.Z e r o ,o n e ,o rm a n ya r r o w sm a ye x i t\\nfrom each state with the label ε.\\nHow does an NFAcompute? Suppose that we are running an NFAon an input\\nstring and come to a state with multiple ways to proceed. For example, say that\\nwe are in state q1inNFAN1and that the next input symbol is a 1.A f t e rr e a d i n g\\nthat symbol, the machine splits into multiple copies of itself and follows allthe\\npossibilities in parallel. Each copy of the machine takes one of the possible ways\\nto proceed and continues as before. If there are subsequent choices, the machine\\nsplits again. If the next input symbol doesn’t appear on any of the arrows exiting\\nthe state occupied by a copy of the machine, that copy of the machine dies, along\\nwith the branch of the computation associated with it. Finally, if any one of these\\ncopies of the machine is in an accept state at the end of the input, the NFAaccepts\\nthe input string.\\nIf a state with an εsymbol on an exiting arrow is encountered, something\\nsimilar happens. Without reading any input, the machine splits into multiple\\ncopies, one following each of the exiting ε-labeled arrows and one staying at the\\ncurrent state. Then the machine proceeds nondeterministically as before.\\nNondeterminism may be viewed as a kind of parallel computation wherein\\nmultiple independent “processes” or “threads” can be running concurrently.\\nWhen the NFAsplits to follow several choices, that corresponds to a process\\n“forking” into several children, each proceeding separately. If at least one of\\nthese processes accepts, then the entire computation accepts.\\nAnother way to think of a nondeterministic computation is as a tree of possi-\\nbilities. The root of the tree corresponds to the start of the computation. Every\\nbranching point in the tree corresponds to a point in the computation at which\\nthe machine has multiple choices. The machine accepts if at least one of the\\ncomputation branches ends in an accept state, as shown in Figure 1.28.\\nCopyright 2012 Cengage Learning. All Rights Reserved. May not be copied, scanned, or duplicated, in whole or in part. Due to electronic rights, some third party content may be suppressed from the eBook and/or eChapter(s). Editorial review has deemed that any suppressed content does not materially affect the overall learning experience. Cengage Learning reserves the right to remove additional content at any time if subsequent rights restrictions require it.'),\n",
              " Document(page_content='48 CHAPTER 1 / REGULAR LANGUAGES\\nFIGURE 1.27\\nThe nondeterministic ﬁnite automaton N1\\nThe difference between a deterministic ﬁnite automaton, abbreviated DFA,\\nand a nondeterministic ﬁnite automaton, abbreviated NFA,i si m m e d i a t e l ya p -\\nparent. First, every state of a DFAalways has exactly one exiting transition arrow\\nfor each symbol in the alphabet. The NFAshown in Figure 1.27 violates that\\nrule. State q1has one exiting arrow for 0,b u ti th a st w of o r 1;q2has one arrow\\nfor0,b u ti th a sn o n ef o r 1.I n a n NFA,as t a t em a yh a v ez e r o ,o n e ,o rm a n y\\nexiting arrows for each alphabet symbol.\\nSecond, in a DFA,l a b e l so nt h et r a n s i t i o na r r o w sa r es y m b o l sf r o mt h ea l p h a -\\nbet. This NFAhas an arrow with the label ε.I ng e n e r a l ,a n NFAmay have arrows\\nlabeled with members of the alphabet or ε.Z e r o ,o n e ,o rm a n ya r r o w sm a ye x i t\\nfrom each state with the label ε.\\nHow does an NFAcompute? Suppose that we are running an NFAon an input\\nstring and come to a state with multiple ways to proceed. For example, say that\\nwe are in state q1inNFAN1and that the next input symbol is a 1.A f t e rr e a d i n g\\nthat symbol, the machine splits into multiple copies of itself and follows allthe\\npossibilities in parallel. Each copy of the machine takes one of the possible ways\\nto proceed and continues as before. If there are subsequent choices, the machine\\nsplits again. If the next input symbol doesn’t appear on any of the arrows exiting\\nthe state occupied by a copy of the machine, that copy of the machine dies, along\\nwith the branch of the computation associated with it. Finally, if any one of these\\ncopies of the machine is in an accept state at the end of the input, the NFAaccepts\\nthe input string.\\nIf a state with an εsymbol on an exiting arrow is encountered, something\\nsimilar happens. Without reading any input, the machine splits into multiple'),\n",
              " Document(page_content='In the following theorem we show that ADFAis decidable. Hence this theorem\\nshows that the problem of testing whether a given ﬁnite automaton accepts a\\ngiven string is decidable.\\nTHEOREM 4.1\\nADFAis a decidable language.\\nCopyright 2012 Cengage Learning. All Rights Reserved. May not be copied, scanned, or duplicated, in whole or in part. Due to electronic rights, some third party content may be suppressed from the eBook and/or eChapter(s). Editorial review has deemed that any suppressed content does not materially affect the overall learning experience. Cengage Learning reserves the right to remove additional content at any time if subsequent rights restrictions require it.'),\n",
              " Document(page_content='5.26 Deﬁne a two-headed ﬁnite automaton (2DFA )t ob ead e t e r m i n i s t i cﬁ n i t ea u t o m a -\\nton that has two read-only, bidirectional heads that start at the left-hand end of the\\ninput tape and can be independently controlled to move in either direction. The\\ntape of a 2DFA is ﬁnite and is just large enough to contain the input plus two ad-\\nditional blank tape cells, one on the left-hand end and one on the right-hand end,\\nthat serve as delimiters. A 2DFA accepts its input by entering a special accept state.\\nFor example, a 2DFA can recognize the language {anbncn|n≥0}.\\na.LetA2DFA={⟨M,x⟩|Mis a2DFA andMaccepts x}.Show that A2DFAis\\ndecidable.\\nb.LetE2DFA={⟨M⟩|Mis a2DFA andL(M)=∅}.S h o w t h a t E2DFAis not\\ndecidable.\\nCopyright 2012 Cengage Learning. All Rights Reserved. May not be copied, scanned, or duplicated, in whole or in part. Due to electronic rights, some third party content may be suppressed from the eBook and/or eChapter(s). Editorial review has deemed that any suppressed content does not materially affect the overall learning experience. Cengage Learning reserves the right to remove additional content at any time if subsequent rights restrictions require it.')]"
            ]
          },
          "metadata": {},
          "execution_count": 66
        }
      ]
    },
    {
      "cell_type": "markdown",
      "source": [
        "# The grand finale ✅"
      ],
      "metadata": {
        "id": "zApcJjAa6d6k"
      }
    },
    {
      "cell_type": "code",
      "source": [
        "from langchain.llms import OpenAI\n",
        "from langchain.chains.question_answering import load_qa_chain"
      ],
      "metadata": {
        "id": "NA3YQcRMq41d"
      },
      "execution_count": 67,
      "outputs": []
    },
    {
      "cell_type": "code",
      "source": [
        "llm = OpenAI(temperature=0, openai_api_key=OPENAI_API_KEY)\n",
        "chain = load_qa_chain(llm, chain_type=\"stuff\")"
      ],
      "metadata": {
        "id": "KnGqc92qrB9N"
      },
      "execution_count": 68,
      "outputs": []
    },
    {
      "cell_type": "code",
      "source": [
        "query = \"What is a GNFA?\"\n",
        "docs = docsearch.similarity_search(query)"
      ],
      "metadata": {
        "id": "kuCLv3gUrYgS"
      },
      "execution_count": 73,
      "outputs": []
    },
    {
      "cell_type": "code",
      "source": [
        "chain.run(input_documents=docs, question=query)"
      ],
      "metadata": {
        "colab": {
          "base_uri": "https://localhost:8080/",
          "height": 107
        },
        "id": "5_oPKL1urb1l",
        "outputId": "6d916431-934e-47b1-a2c7-6f812bbef149"
      },
      "execution_count": 74,
      "outputs": [
        {
          "output_type": "execute_result",
          "data": {
            "text/plain": [
              "' A generalized nondeterministic finite automaton (GNFA) is a type of finite automaton wherein the transition arrows may have any regular expressions as labels, instead of only members of the alphabet or ε. A GNFA reads blocks of symbols from the input, not necessarily just one symbol at a time as in an ordinary NFA. A GNFA is nondeterministic and so may have several different ways to process the same input string. It accepts its input if its processing can cause the GNFA to be in an accept state at the end of the input.'"
            ],
            "application/vnd.google.colaboratory.intrinsic+json": {
              "type": "string"
            }
          },
          "metadata": {},
          "execution_count": 74
        }
      ]
    }
  ]
}